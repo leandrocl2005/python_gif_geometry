{
 "cells": [
  {
   "cell_type": "markdown",
   "metadata": {},
   "source": [
    "<h1>Elipsóide louco</h1>"
   ]
  },
  {
   "cell_type": "code",
   "execution_count": 9,
   "metadata": {},
   "outputs": [
    {
     "data": {
      "text/plain": [
       "<Figure size 1000x1000 with 1 Axes>"
      ]
     },
     "metadata": {},
     "output_type": "display_data"
    }
   ],
   "source": [
    "from mpl_toolkits import mplot3d\n",
    "import numpy as np\n",
    "import matplotlib.pyplot as plt\n",
    "from IPython.display import clear_output\n",
    "\n",
    "total = 150\n",
    "for num in range(0, total):\n",
    "    \n",
    "    # janela de figura\n",
    "    plt.figure(figsize=(10,10))\n",
    "    \n",
    "    # parâmetros \n",
    "    u= np.linspace(0, 2 * np.pi ,30)\n",
    "    v= np.linspace(0, 2 * np.pi, 30)\n",
    "    \n",
    "    # gride de parâmetros\n",
    "    u, v= np.meshgrid(u, v)\n",
    "    \n",
    "    # rotação\n",
    "    theta = 8 * np.pi * num / total\n",
    "    \n",
    "    # paramétricas\n",
    "    x = 4 * np.cos(u) * np.cos(v) * np.cos(theta) - np.cos(u) * np.sin(v) * np.sin(theta)\n",
    "    y = 4 * np.cos(u) * np.cos(v) * np.sin(theta) + np.cos(u) * np.sin(v) * np.cos(theta)\n",
    "    z = np.sin(u) - 4 * np.cos(4 * theta)\n",
    "    ax= plt.axes(projection='3d')\n",
    "    \n",
    "    # gráfico\n",
    "    ax.plot_surface(x, y, z, alpha=0.6, cmap='gist_heat')\n",
    "    \n",
    "    # legendas\n",
    "    ax.set_xlabel ( 'Eixo x')\n",
    "    ax.set_ylabel( 'Eixo y')\n",
    "    ax.set_zlabel ( 'Eixo z')\n",
    "    \n",
    "    # intervalos em cada eixo\n",
    "    ax.set_xlim3d(-5, 5)\n",
    "    ax.set_ylim3d(-5, 5)\n",
    "    ax.set_zlim3d(-5, 5)\n",
    "    \n",
    "    # limpa o display\n",
    "    clear_output(wait=True)\n",
    "    \n",
    "    # ângulo\n",
    "    ax.view_init(30,30)\n",
    "    \n",
    "    # nome do arquivo\n",
    "    filename = \"girapeao/tube\" + str(num) + \".png\"\n",
    "    \n",
    "    # salva imagem\n",
    "    plt.savefig(filename, dpi=96)\n",
    "    \n",
    "    # mostra no display\n",
    "    plt.show()"
   ]
  },
  {
   "cell_type": "code",
   "execution_count": null,
   "metadata": {},
   "outputs": [],
   "source": []
  }
 ],
 "metadata": {
  "kernelspec": {
   "display_name": "Python 3",
   "language": "python",
   "name": "python3"
  },
  "language_info": {
   "codemirror_mode": {
    "name": "ipython",
    "version": 3
   },
   "file_extension": ".py",
   "mimetype": "text/x-python",
   "name": "python",
   "nbconvert_exporter": "python",
   "pygments_lexer": "ipython3",
   "version": "3.6.5"
  }
 },
 "nbformat": 4,
 "nbformat_minor": 2
}
